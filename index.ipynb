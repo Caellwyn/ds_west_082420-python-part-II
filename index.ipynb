{
 "cells": [
  {
   "cell_type": "markdown",
   "metadata": {},
   "source": [
    "# More Python Essentials!\n",
    "\n",
    "Agenda:  \n",
    "    - Base type object Methods  \n",
    "    - F-strings  \n",
    "    - Built in Functions  \n",
    "    - List Methods  \n",
    "    - list comprehensions  \n",
    "    - Dictionary methods  \n",
    "    - While loops   \n",
    "    - Functions  \n"
   ]
  },
  {
   "cell_type": "code",
   "execution_count": 35,
   "metadata": {},
   "outputs": [
    {
     "name": "stdout",
     "output_type": "stream",
     "text": [
      "The autoreload extension is already loaded. To reload it, use:\n",
      "  %reload_ext autoreload\n"
     ]
    }
   ],
   "source": [
    "ds_west = ['Mitsy', 'Captain Trevor', 'Bruce' ]\n",
    "\n",
    "# This is always a good idea\n",
    "%load_ext autoreload\n",
    "%autoreload 2\n",
    "            \n",
    "import os\n",
    "import sys\n",
    "module_path = os.path.abspath(os.path.join(os.pardir, os.pardir))\n",
    "if module_path not in sys.path:\n",
    "    sys.path.append(module_path)\n",
    "    \n",
    "from src.student_caller import one_random_student"
   ]
  },
  {
   "cell_type": "markdown",
   "metadata": {},
   "source": [
    "\n",
    "\n",
    "## Methods\n",
    "\n",
    "A method is a function that belongs to an object. And in Python, most things are objects! Naturally, the methods that belong to a particular object can vary depending on the object's datatype.\n",
    "\n",
    "### String Methods\n",
    "\n",
    "Strings will show up constantly.  Most datasets we encounter will have some sort of strings.  And they can be messy.  Luckily, we have objects associated with our strings that help us get them into suitable, consistent form.\n",
    "\n",
    "Here are some useful methods for strings:\n",
    "\n",
    "- ```.upper()```: converts a string to uppercase\n",
    "- ```.lower()```: converts a string to lowercase\n",
    "- ```.capitalize()```: makes the first letter of a string a capital"
   ]
  },
  {
   "cell_type": "markdown",
   "metadata": {},
   "source": [
    "Question: What's the difference between `.capitalize()` and `.title()`?"
   ]
  },
  {
   "cell_type": "code",
   "execution_count": 36,
   "metadata": {},
   "outputs": [
    {
     "name": "stdout",
     "output_type": "stream",
     "text": [
      "Captain Trevor\n"
     ]
    }
   ],
   "source": [
    "one_random_student(ds_west)"
   ]
  },
  {
   "cell_type": "markdown",
   "metadata": {},
   "source": [
    "<details>\n",
    "    <summary>\n",
    "    Answer here\n",
    "    </summary>\n",
    "    .capitalize() capitalizes the first letter of a string;<br/>\n",
    "        .title() capitalizes the first letter and each letter after a space\n",
    "    </details>"
   ]
  },
  {
   "cell_type": "code",
   "execution_count": 37,
   "metadata": {},
   "outputs": [],
   "source": [
    "principal_first_name = 'clark'\n",
    "principal_middle_initial = 'm'\n",
    "principal_last_name = 'breTThauer'\n",
    "principal_title = 'dr.'"
   ]
  },
  {
   "cell_type": "code",
   "execution_count": 38,
   "metadata": {},
   "outputs": [],
   "source": [
    "# .lower()"
   ]
  },
  {
   "cell_type": "code",
   "execution_count": 39,
   "metadata": {},
   "outputs": [
    {
     "data": {
      "text/plain": [
       "'bretthauer'"
      ]
     },
     "execution_count": 39,
     "metadata": {},
     "output_type": "execute_result"
    }
   ],
   "source": [
    "#__SOLUTION__\n",
    "# .lower()\n",
    "principal_last_name.lower()"
   ]
  },
  {
   "cell_type": "code",
   "execution_count": 40,
   "metadata": {},
   "outputs": [],
   "source": [
    "# .title()"
   ]
  },
  {
   "cell_type": "code",
   "execution_count": 41,
   "metadata": {},
   "outputs": [
    {
     "data": {
      "text/plain": [
       "'Dr. Clark Bretthauer'"
      ]
     },
     "execution_count": 41,
     "metadata": {},
     "output_type": "execute_result"
    }
   ],
   "source": [
    "#__SOLUTION__\n",
    "# .title()\n",
    "full_name = principal_title + \" \" + principal_first_name + \" \" + principal_last_name\n",
    "full_name.title()\n"
   ]
  },
  {
   "cell_type": "markdown",
   "metadata": {},
   "source": [
    "Notice that '+' is used to concatenate strings!"
   ]
  },
  {
   "cell_type": "markdown",
   "metadata": {},
   "source": [
    "We can also use the .join() method to concatenate strings"
   ]
  },
  {
   "cell_type": "code",
   "execution_count": 42,
   "metadata": {},
   "outputs": [],
   "source": [
    "# .join()"
   ]
  },
  {
   "cell_type": "code",
   "execution_count": 43,
   "metadata": {},
   "outputs": [
    {
     "data": {
      "text/plain": [
       "'Dr. Clark Bretthauer'"
      ]
     },
     "execution_count": 43,
     "metadata": {},
     "output_type": "execute_result"
    }
   ],
   "source": [
    "#__SOLUTION__\n",
    "# .join()\n",
    "\n",
    "' '.join([principal_title, principal_first_name, principal_last_name]).title()"
   ]
  },
  {
   "cell_type": "code",
   "execution_count": 44,
   "metadata": {},
   "outputs": [
    {
     "data": {
      "text/plain": [
       "'CMB'"
      ]
     },
     "execution_count": 44,
     "metadata": {},
     "output_type": "execute_result"
    }
   ],
   "source": [
    "''.join(name[0].upper() for name in [principal_first_name, principal_middle_initial, principal_last_name])"
   ]
  },
  {
   "cell_type": "markdown",
   "metadata": {},
   "source": [
    "## Built-In Functions\n",
    "\n",
    "Many useful functions are already built into Python:\n",
    "\n",
    "- ```print()```: print the given string or variable's value\n",
    "- ```type()```: returns the datatype of the argument\n",
    "- ```len()```: returns the length of an array\n",
    "- ```sum()```: returns the sum of the array's values\n",
    "- ```min()```: returns the smallest member of an array\n",
    "- ```max()```: returns the largest member of an array\n",
    "- ```str()```: converts the variable from its current type to a string\n",
    "- ```range()```: returns an iterable that allows looping through a set of numbers"
   ]
  },
  {
   "cell_type": "code",
   "execution_count": 45,
   "metadata": {},
   "outputs": [
    {
     "data": {
      "text/plain": [
       "'1 + 2 + 3 + 4 + 5'"
      ]
     },
     "execution_count": 45,
     "metadata": {},
     "output_type": "execute_result"
    }
   ],
   "source": [
    "' + '.join(str(num) for num in range(1, 6))"
   ]
  },
  {
   "cell_type": "markdown",
   "metadata": {},
   "source": [
    "#### f-Strings\n",
    "\n",
    "f-Strings are a convenient way to bring variables into strings."
   ]
  },
  {
   "cell_type": "markdown",
   "metadata": {},
   "source": [
    "Consider the scenario where you want to get data of every principal in a school district.  You have a list of last names, and you know the pattern of a url.  \n",
    "`www.lakeviewhigh.edu/principal/<principal_last_name>/about/`"
   ]
  },
  {
   "cell_type": "code",
   "execution_count": 46,
   "metadata": {},
   "outputs": [
    {
     "data": {
      "text/plain": [
       "'breTThauer'"
      ]
     },
     "execution_count": 46,
     "metadata": {},
     "output_type": "execute_result"
    }
   ],
   "source": [
    "principal_last_name"
   ]
  },
  {
   "cell_type": "markdown",
   "metadata": {},
   "source": [
    "We can use an f-string to interpolate the last name into the url. We insert the variable, which has to be a **string** into the curly braces."
   ]
  },
  {
   "cell_type": "code",
   "execution_count": 47,
   "metadata": {},
   "outputs": [
    {
     "ename": "SyntaxError",
     "evalue": "EOL while scanning string literal (<ipython-input-47-e64eb304cfd8>, line 1)",
     "output_type": "error",
     "traceback": [
      "\u001b[0;36m  File \u001b[0;32m\"<ipython-input-47-e64eb304cfd8>\"\u001b[0;36m, line \u001b[0;32m1\u001b[0m\n\u001b[0;31m    f\"www.lakeviewhigh.edu/principal/{}/about/\"\"\u001b[0m\n\u001b[0m                                                ^\u001b[0m\n\u001b[0;31mSyntaxError\u001b[0m\u001b[0;31m:\u001b[0m EOL while scanning string literal\n"
     ]
    }
   ],
   "source": [
    "f\"www.lakeviewhigh.edu/principal/{}/about/\"\""
   ]
  },
  {
   "cell_type": "code",
   "execution_count": 48,
   "metadata": {},
   "outputs": [
    {
     "name": "stdout",
     "output_type": "stream",
     "text": [
      "'www.lakeviewhigh.edu/principal/bretthauer/about/\n"
     ]
    }
   ],
   "source": [
    "#__SOLUTION__\n",
    "print(f\"'www.lakeviewhigh.edu/principal/{principal_last_name.lower()}/about/\")"
   ]
  },
  {
   "cell_type": "markdown",
   "metadata": {},
   "source": [
    "## Individual Exercise: Turn off you camera, and take 2 minutes to work through the following problem"
   ]
  },
  {
   "cell_type": "markdown",
   "metadata": {},
   "source": [
    "You would like a list of all Chicago Public Schools in each district.  The urls for the data have an easy pattern:  \n",
    "https://www.cps.edu/schools/networks/network-1/  \n",
    "https://www.cps.edu/schools/networks/network-2/  \n",
    "\n",
    "The numbers before the final forward slash increase consecutively. \n",
    "The **objective** is to print out a list of all of the network urls with an f-string.\n",
    "\n",
    "Hint: You will have to fill in the code below with two built in methods from above."
   ]
  },
  {
   "cell_type": "code",
   "execution_count": 49,
   "metadata": {},
   "outputs": [
    {
     "ename": "SyntaxError",
     "evalue": "invalid syntax (<ipython-input-49-91db1d5da457>, line 1)",
     "output_type": "error",
     "traceback": [
      "\u001b[0;36m  File \u001b[0;32m\"<ipython-input-49-91db1d5da457>\"\u001b[0;36m, line \u001b[0;32m1\u001b[0m\n\u001b[0;31m    for i in <fill_in>:\u001b[0m\n\u001b[0m             ^\u001b[0m\n\u001b[0;31mSyntaxError\u001b[0m\u001b[0;31m:\u001b[0m invalid syntax\n"
     ]
    }
   ],
   "source": [
    "for i in <fill_in>:\n",
    "    print(f\"https://www.cps.edu/schools/networks/network-{<fill_in>}/\")"
   ]
  },
  {
   "cell_type": "code",
   "execution_count": 50,
   "metadata": {},
   "outputs": [
    {
     "name": "stdout",
     "output_type": "stream",
     "text": [
      "https://www.cps.edu/schools/networks/network-1/\n",
      "https://www.cps.edu/schools/networks/network-2/\n",
      "https://www.cps.edu/schools/networks/network-3/\n",
      "https://www.cps.edu/schools/networks/network-4/\n",
      "https://www.cps.edu/schools/networks/network-5/\n",
      "https://www.cps.edu/schools/networks/network-6/\n",
      "https://www.cps.edu/schools/networks/network-7/\n",
      "https://www.cps.edu/schools/networks/network-8/\n",
      "https://www.cps.edu/schools/networks/network-9/\n",
      "https://www.cps.edu/schools/networks/network-10/\n",
      "https://www.cps.edu/schools/networks/network-11/\n",
      "https://www.cps.edu/schools/networks/network-12/\n",
      "https://www.cps.edu/schools/networks/network-13/\n",
      "https://www.cps.edu/schools/networks/network-14/\n",
      "https://www.cps.edu/schools/networks/network-15/\n",
      "https://www.cps.edu/schools/networks/network-16/\n"
     ]
    }
   ],
   "source": [
    "#__SOLUTION__\n",
    "for i in range(1,17):\n",
    "    print(f\"https://www.cps.edu/schools/networks/network-{str(i)}/\")\n",
    "\n"
   ]
  },
  {
   "cell_type": "markdown",
   "metadata": {},
   "source": [
    "### List Methods\n",
    "\n",
    "Here are some useful methods for lists:\n",
    "\n",
    "- ```.append()```: adds an element to the end of a list\n",
    "- ```.pop()```: removes an element from the list\n",
    "- ```.extend()```: adds multiple elements to the end of a list\n",
    "- ```.index()```: returns (first) place in list where argument is found\n",
    "- ```.remove()```: removes element by value\n",
    "\n",
    "Question: What's the difference between ```.remove()``` and ```del```?\n",
    "\n",
    "<details>\n",
    "    <summary>\n",
    "        Answer here\n",
    "    </summary>\n",
    "    .remove() removes an element by value;<br/>\n",
    "    del removes an element by position"
   ]
  },
  {
   "cell_type": "code",
   "execution_count": 51,
   "metadata": {},
   "outputs": [],
   "source": [
    "import pickle\n",
    "\n",
    "with open('./data/school_dict.p', 'rb') as read_file:\n",
    "    schools = pickle.load(read_file)"
   ]
  },
  {
   "cell_type": "code",
   "execution_count": 52,
   "metadata": {},
   "outputs": [],
   "source": [
    "district_1 = schools[1][:5]\n",
    "district_2 = schools[2][:5]\n"
   ]
  },
  {
   "cell_type": "code",
   "execution_count": 53,
   "metadata": {},
   "outputs": [
    {
     "name": "stdout",
     "output_type": "stream",
     "text": [
      "['ALBANY PARK', 'BATEMAN', 'BEARD', 'BEAUBIEN', 'BELDING']\n",
      "['BOONE', 'BRENNEMANN', 'CLINTON', 'COURTENAY', 'DECATUR']\n"
     ]
    }
   ],
   "source": [
    "print(district_1)\n",
    "print(district_2)"
   ]
  },
  {
   "cell_type": "code",
   "execution_count": 54,
   "metadata": {},
   "outputs": [
    {
     "name": "stdout",
     "output_type": "stream",
     "text": [
      "5\n"
     ]
    },
    {
     "data": {
      "text/plain": [
       "10"
      ]
     },
     "execution_count": 54,
     "metadata": {},
     "output_type": "execute_result"
    }
   ],
   "source": [
    "# Add list_2 to list_1 so that we have one big list\n",
    "\n",
    "# Note that this alters list_1!\n",
    "\n",
    "print(len(district_1))\n",
    "district_1.extend(district_2)\n",
    "len(district_1)"
   ]
  },
  {
   "cell_type": "code",
   "execution_count": 55,
   "metadata": {},
   "outputs": [],
   "source": [
    "# What would this code return?\n",
    "\n",
    "district_1.append(district_2)"
   ]
  },
  {
   "cell_type": "code",
   "execution_count": 56,
   "metadata": {},
   "outputs": [
    {
     "data": {
      "text/plain": [
       "'BOONEBRENNEMANNCLINTONCOURTENAYDECATUR'"
      ]
     },
     "execution_count": 56,
     "metadata": {},
     "output_type": "execute_result"
    }
   ],
   "source": [
    "# Let's write a loop that will build a list of the characters of the all of the letters in district_2\n",
    "\n",
    "school_salad = ''.join(district_2)\n",
    "school_salad\n",
    "\n"
   ]
  },
  {
   "cell_type": "code",
   "execution_count": 57,
   "metadata": {},
   "outputs": [
    {
     "data": {
      "text/plain": [
       "['B',\n",
       " 'O',\n",
       " 'O',\n",
       " 'N',\n",
       " 'E',\n",
       " 'B',\n",
       " 'R',\n",
       " 'E',\n",
       " 'N',\n",
       " 'N',\n",
       " 'E',\n",
       " 'M',\n",
       " 'A',\n",
       " 'N',\n",
       " 'N',\n",
       " 'C',\n",
       " 'L',\n",
       " 'I',\n",
       " 'N',\n",
       " 'T',\n",
       " 'O',\n",
       " 'N',\n",
       " 'C',\n",
       " 'O',\n",
       " 'U',\n",
       " 'R',\n",
       " 'T',\n",
       " 'E',\n",
       " 'N',\n",
       " 'A',\n",
       " 'Y',\n",
       " 'D',\n",
       " 'E',\n",
       " 'C',\n",
       " 'A',\n",
       " 'T',\n",
       " 'U',\n",
       " 'R']"
      ]
     },
     "execution_count": 57,
     "metadata": {},
     "output_type": "execute_result"
    }
   ],
   "source": [
    "# What does list(word) do?\n",
    "\n",
    "list(school_salad)"
   ]
  },
  {
   "cell_type": "code",
   "execution_count": 58,
   "metadata": {},
   "outputs": [
    {
     "data": {
      "text/plain": [
       "'DECATUR'"
      ]
     },
     "execution_count": 58,
     "metadata": {},
     "output_type": "execute_result"
    }
   ],
   "source": [
    "district_2.pop()\n",
    "\n",
    "# What does this return?\n",
    "# What does district_2 look like now?\n",
    "\n"
   ]
  },
  {
   "cell_type": "markdown",
   "metadata": {},
   "source": [
    "### List Comprehension"
   ]
  },
  {
   "cell_type": "markdown",
   "metadata": {},
   "source": [
    "List comprehension is a handy way of generating a new list from existing lists.\n",
    "\n",
    "Suppose I want the district in the school names.\n"
   ]
  },
  {
   "cell_type": "markdown",
   "metadata": {},
   "source": [
    "I can do this with list comprehension!"
   ]
  },
  {
   "cell_type": "markdown",
   "metadata": {},
   "source": [
    "The syntax is: ```[ f(x) for x in [original list] ]```"
   ]
  },
  {
   "cell_type": "code",
   "execution_count": 59,
   "metadata": {},
   "outputs": [],
   "source": [
    "school_district_names = [school_name + '_2' for school_name in district_2]"
   ]
  },
  {
   "cell_type": "code",
   "execution_count": 60,
   "metadata": {},
   "outputs": [
    {
     "data": {
      "text/plain": [
       "['BOONE_2', 'BRENNEMANN_2', 'CLINTON_2', 'COURTENAY_2']"
      ]
     },
     "execution_count": 60,
     "metadata": {},
     "output_type": "execute_result"
    }
   ],
   "source": [
    "school_district_names"
   ]
  },
  {
   "cell_type": "markdown",
   "metadata": {},
   "source": [
    "### Dictionary Methods\n",
    "\n",
    "Here are some useful methods for dictionaries:\n",
    "\n",
    "- ```.keys()```: returns an array of the dictionary's keys\n",
    "- ```.values()```: returns an array of the dictionary's values\n",
    "- ```.items()```: returns an array of key-value tuples"
   ]
  },
  {
   "cell_type": "code",
   "execution_count": 61,
   "metadata": {},
   "outputs": [
    {
     "data": {
      "text/plain": [
       "dict"
      ]
     },
     "execution_count": 61,
     "metadata": {},
     "output_type": "execute_result"
    }
   ],
   "source": [
    "type(schools)"
   ]
  },
  {
   "cell_type": "code",
   "execution_count": 62,
   "metadata": {},
   "outputs": [
    {
     "name": "stdout",
     "output_type": "stream",
     "text": [
      "1 ALBANY PARK\n",
      "2 BOONE\n",
      "3 BRUNSON\n",
      "4 ALCOTT ES\n",
      "5 BEIDLER\n",
      "6 ARMOUR\n",
      "7 COOPER\n",
      "8 BRIGHTON PARK\n",
      "9 ARIEL\n",
      "10 ASHBURN\n",
      "11 BARTON\n",
      "12 ASHE\n",
      "13 ALDRIDGE\n",
      "14 DEVRY HS\n",
      "15 ALCOTT HS\n",
      "16 AIR FORCE HS\n"
     ]
    }
   ],
   "source": [
    "# Use the .keys() method to print the keys of this dictionary!\n",
    "\n",
    "# Use the .values() method to print the values of this dictionary!\n",
    "\n",
    "for item in schools.items():\n",
    "    print(item[0], item[1][0])\n",
    "    \n"
   ]
  },
  {
   "cell_type": "markdown",
   "metadata": {},
   "source": [
    "## Zipping"
   ]
  },
  {
   "cell_type": "markdown",
   "metadata": {},
   "source": [
    "Zipping is a way of merging two arrays into one. The result can be cast as a list or as a dict."
   ]
  },
  {
   "cell_type": "code",
   "execution_count": 63,
   "metadata": {},
   "outputs": [
    {
     "data": {
      "text/plain": [
       "['BOONE', 'BRENNEMANN', 'CLINTON', 'COURTENAY']"
      ]
     },
     "execution_count": 63,
     "metadata": {},
     "output_type": "execute_result"
    }
   ],
   "source": [
    "student_count = [197, 102, 105, 162]\n",
    "district_2"
   ]
  },
  {
   "cell_type": "code",
   "execution_count": 64,
   "metadata": {},
   "outputs": [
    {
     "data": {
      "text/plain": [
       "<zip at 0x106a5cf48>"
      ]
     },
     "execution_count": 64,
     "metadata": {},
     "output_type": "execute_result"
    }
   ],
   "source": [
    "zip(district_2, student_count)"
   ]
  },
  {
   "cell_type": "code",
   "execution_count": 65,
   "metadata": {},
   "outputs": [
    {
     "name": "stdout",
     "output_type": "stream",
     "text": [
      "BOONE 197\n",
      "BRENNEMANN 102\n",
      "CLINTON 105\n",
      "COURTENAY 162\n"
     ]
    }
   ],
   "source": [
    "for school, count in zip(district_2, student_count):\n",
    "    print(school, count)"
   ]
  },
  {
   "cell_type": "code",
   "execution_count": 66,
   "metadata": {},
   "outputs": [
    {
     "data": {
      "text/plain": [
       "{'BOONE': 197, 'BRENNEMANN': 102, 'CLINTON': 105, 'COURTENAY': 162}"
      ]
     },
     "execution_count": 66,
     "metadata": {},
     "output_type": "execute_result"
    }
   ],
   "source": [
    "dict(zip(district_2,student_count))"
   ]
  },
  {
   "cell_type": "markdown",
   "metadata": {},
   "source": [
    "## While Loops\n",
    "\n",
    "We have already seen 'for'-loops, where you use a loop and count the iterations by the some pre-specified number. But sometimes we don't know how many times we'll need to iterate!\n",
    "\n",
    "Suppose I need to choose a certain number of schools (say 10) from  a list.  I can set a variable as a counter, and create a while loop which will add 1 to that counter with each pass through the loop."
   ]
  },
  {
   "cell_type": "code",
   "execution_count": 67,
   "metadata": {},
   "outputs": [
    {
     "name": "stdout",
     "output_type": "stream",
     "text": [
      "Captain Trevor\n"
     ]
    }
   ],
   "source": [
    "# What will the print statement below print out?\n",
    "one_random_student(ds_west)"
   ]
  },
  {
   "cell_type": "code",
   "execution_count": 68,
   "metadata": {},
   "outputs": [
    {
     "name": "stdout",
     "output_type": "stream",
     "text": [
      "11\n"
     ]
    }
   ],
   "source": [
    "school_count = 0\n",
    "\n",
    "while school_count <= 10:\n",
    "    school_count += 1\n",
    "\n",
    "print(school_count)"
   ]
  },
  {
   "cell_type": "code",
   "execution_count": 69,
   "metadata": {},
   "outputs": [],
   "source": [
    "district_3_schools = schools[3]\n",
    "district_3_pops = [129,107,167,103,111,137,145,\n",
    " 107,198,183,132,100,120,162,\n",
    " 116,146,137]\n"
   ]
  },
  {
   "cell_type": "code",
   "execution_count": 70,
   "metadata": {},
   "outputs": [
    {
     "name": "stdout",
     "output_type": "stream",
     "text": [
      "1006\n"
     ]
    }
   ],
   "source": [
    "sample_school_populations = 0\n",
    "school_index = 0\n",
    "\n",
    "while sample_school_populations < 1000:\n",
    "    sample_school_populations += district_3_pops[school_index]\n",
    "    school_index+=1\n",
    "\n",
    "print(sample_school_populations)"
   ]
  },
  {
   "cell_type": "markdown",
   "metadata": {},
   "source": [
    "How can we update the code to stop before 1000?"
   ]
  },
  {
   "cell_type": "code",
   "execution_count": 71,
   "metadata": {},
   "outputs": [
    {
     "name": "stdout",
     "output_type": "stream",
     "text": [
      "Captain Trevor\n"
     ]
    }
   ],
   "source": [
    "one_random_student(ds_west)"
   ]
  },
  {
   "cell_type": "code",
   "execution_count": 72,
   "metadata": {},
   "outputs": [
    {
     "name": "stdout",
     "output_type": "stream",
     "text": [
      "899\n"
     ]
    }
   ],
   "source": [
    "#__SOLUTION__\n",
    "sample_school_populations = 0\n",
    "school_index = 0\n",
    "\n",
    "while sample_school_populations + district_3_pops[school_index]  < 1000:\n",
    "    sample_school_populations += district_3_pops[school_index]\n",
    "    school_index+=1\n",
    "\n",
    "print(sample_school_populations)"
   ]
  },
  {
   "cell_type": "markdown",
   "metadata": {},
   "source": [
    "# Nested for loops"
   ]
  },
  {
   "cell_type": "markdown",
   "metadata": {},
   "source": [
    "Lets imagine we have a dictionary where each key is a school district, and each value is a school population number.  "
   ]
  },
  {
   "cell_type": "code",
   "execution_count": 73,
   "metadata": {},
   "outputs": [],
   "source": [
    "with open('./data/school_pop_dict.p', 'rb') as read_file:\n",
    "    school_pop_dict = pickle.load(read_file)"
   ]
  },
  {
   "cell_type": "markdown",
   "metadata": {},
   "source": [
    "Let's iterate through the districts, add up the school populations, and print out the total populations in each district\n"
   ]
  },
  {
   "cell_type": "code",
   "execution_count": 74,
   "metadata": {},
   "outputs": [
    {
     "name": "stdout",
     "output_type": "stream",
     "text": [
      "1 19251\n",
      "2 12011\n",
      "3 7334\n",
      "4 16177\n",
      "5 15301\n",
      "6 13163\n",
      "7 10489\n",
      "8 11525\n",
      "9 11925\n",
      "10 17828\n",
      "11 15426\n",
      "12 16208\n",
      "13 16983\n",
      "14 10428\n",
      "15 13406\n",
      "16 10128\n"
     ]
    }
   ],
   "source": [
    "for district in school_pop_dict:\n",
    "    district_population = 0\n",
    "    for pop in school_pop_dict[district]:\n",
    "        district_population += pop\n",
    "    print(district, district_population)"
   ]
  },
  {
   "cell_type": "markdown",
   "metadata": {},
   "source": [
    "## Functions\n",
    "\n",
    "This aspect of Python is _incredibly_ useful! Writing your own functions can save you a TON of work - by _automating_ it.\n",
    "\n",
    "### Creating Functions\n",
    "\n",
    "The first line will read:\n",
    "\n",
    "'def' + _your function's name_ + '( )' + ':'\n",
    "\n",
    "Any arguments to the function will go in the parentheses.\n",
    "\n",
    "Let's try building a function to get the schools in a district"
   ]
  },
  {
   "cell_type": "code",
   "execution_count": 75,
   "metadata": {},
   "outputs": [],
   "source": [
    "# Let's code it!\n",
    "def district_schools(dist_num, schools_dictionary):\n",
    "    \n",
    "    '''\n",
    "    parameters\n",
    "    dist_num: The number of the school district to be used as a dicitonary key in schools_dictionary\n",
    "    schools_dictionary: ad dictionary with keys equal to school districts and values equal to school names\n",
    "    \n",
    "    returns:\n",
    "    a list of schools for the given district number\n",
    "    '''\n",
    "    print(dist_num)\n",
    "    \n",
    "    return schools_dictionary[dist_num]\n"
   ]
  },
  {
   "cell_type": "markdown",
   "metadata": {},
   "source": [
    "### Calling Functions\n",
    "\n",
    "To _call_ a function, simply type its name, along with any necessary arguments in parentheses."
   ]
  },
  {
   "cell_type": "code",
   "execution_count": 76,
   "metadata": {},
   "outputs": [
    {
     "name": "stdout",
     "output_type": "stream",
     "text": [
      "3\n"
     ]
    },
    {
     "data": {
      "text/plain": [
       "['BRUNSON',\n",
       " 'BURBANK',\n",
       " 'DEPRIEST',\n",
       " 'ELLINGTON',\n",
       " 'FALCONER',\n",
       " 'HANSON PARK',\n",
       " 'HAY',\n",
       " 'LELAND',\n",
       " 'LOCKE J',\n",
       " 'LOVETT',\n",
       " 'LYON',\n",
       " 'NASH',\n",
       " 'NORTHWEST',\n",
       " 'PRIETO',\n",
       " 'SAYRE',\n",
       " 'SCHUBERT',\n",
       " 'SPENCER',\n",
       " 'YOUNG ES']"
      ]
     },
     "execution_count": 76,
     "metadata": {},
     "output_type": "execute_result"
    }
   ],
   "source": [
    "# Let's call it!\n",
    "district_schools(3,schools)"
   ]
  },
  {
   "cell_type": "markdown",
   "metadata": {},
   "source": [
    "### Default Argument Values\n",
    "\n",
    "Sometimes we'll want the argument(s) of our function to have default values."
   ]
  },
  {
   "cell_type": "code",
   "execution_count": 31,
   "metadata": {},
   "outputs": [],
   "source": [
    "def district_schools(dist_num, schools_dictionary=schools):\n",
    "    \n",
    "    '''\n",
    "    parameters\n",
    "    dist_num: The number of the school district to be used as a dicitonary key in schools_dictionary\n",
    "    schools_dictionary: ad dictionary with keys equal to school districts and values equal to school names\n",
    "    \n",
    "    returns:\n",
    "    a list of schools for the given district number\n",
    "    '''\n",
    "    print(dist_num)\n",
    "    return schools_dictionary[dist_num]"
   ]
  },
  {
   "cell_type": "code",
   "execution_count": 34,
   "metadata": {},
   "outputs": [
    {
     "name": "stdout",
     "output_type": "stream",
     "text": [
      "2\n"
     ]
    },
    {
     "data": {
      "text/plain": [
       "['BOONE',\n",
       " 'BRENNEMANN',\n",
       " 'CLINTON',\n",
       " 'COURTENAY',\n",
       " 'DECATUR',\n",
       " 'DISNEY',\n",
       " 'FIELD',\n",
       " 'GALE',\n",
       " 'HAYT',\n",
       " 'JAMIESON',\n",
       " 'JORDAN',\n",
       " 'KILMER',\n",
       " 'MCCUTCHEON',\n",
       " 'MCPHERSON',\n",
       " 'NEW FIELD',\n",
       " 'RAVENSWOOD',\n",
       " 'STONE',\n",
       " 'SWIFT',\n",
       " 'WATERS']"
      ]
     },
     "execution_count": 34,
     "metadata": {},
     "output_type": "execute_result"
    }
   ],
   "source": [
    "district_schools(2)"
   ]
  },
  {
   "cell_type": "markdown",
   "metadata": {},
   "source": [
    "# Practice with nested dictionaries"
   ]
  },
  {
   "cell_type": "code",
   "execution_count": 77,
   "metadata": {},
   "outputs": [],
   "source": [
    "with open('./data/nested_schools_dict.p', 'rb') as read_file:\n",
    "    nested_schools_dict = pickle.load(read_file)"
   ]
  },
  {
   "cell_type": "code",
   "execution_count": 81,
   "metadata": {},
   "outputs": [
    {
     "data": {
      "text/plain": [
       "{'ALBANY PARK': 922,\n",
       " 'BATEMAN': 714,\n",
       " 'BEARD': 774,\n",
       " 'BEAUBIEN': 986,\n",
       " 'BELDING': 874,\n",
       " 'BRIDGE': 355,\n",
       " 'CANTY': 289,\n",
       " 'CLEVELAND': 645,\n",
       " 'DEVER': 461,\n",
       " 'DIRKSEN': 562,\n",
       " 'EDGEBROOK': 892,\n",
       " 'EDISON': 172,\n",
       " 'EDISON PARK': 956,\n",
       " 'FARNSWORTH': 250,\n",
       " 'GARVY': 160,\n",
       " 'GRAY': 721,\n",
       " 'HAUGAN': 626,\n",
       " 'HENRY': 713,\n",
       " 'HIBBARD': 523,\n",
       " 'HITCH': 480,\n",
       " 'MURPHY': 987,\n",
       " 'NORTH RIVER': 911,\n",
       " 'NORWOOD PARK': 684,\n",
       " 'ONAHAN': 148,\n",
       " 'ORIOLE PARK': 502,\n",
       " 'PETERSON': 928,\n",
       " 'PORTAGE PARK': 706,\n",
       " 'PRUSSING': 273,\n",
       " 'REINBERG': 908,\n",
       " 'SAUGANASH': 576,\n",
       " 'SCAMMON': 737,\n",
       " 'SOLOMON': 413,\n",
       " 'STOCK': 934,\n",
       " 'VOLTA': 552,\n",
       " 'WILDWOOD': 956}"
      ]
     },
     "execution_count": 81,
     "metadata": {},
     "output_type": "execute_result"
    }
   ],
   "source": [
    "nested_schools_dict[1]"
   ]
  },
  {
   "cell_type": "markdown",
   "metadata": {},
   "source": [
    "## Let's make a list of schools with student bodies less than 500."
   ]
  },
  {
   "cell_type": "code",
   "execution_count": 83,
   "metadata": {},
   "outputs": [],
   "source": [
    "low_pop_schools = []\n",
    "\n",
    "for district in nested_schools_dict:\n",
    "    for school in nested_schools_dict[district]:\n",
    "        if nested_schools_dict[district][school] < 500:\n",
    "            low_pop_schools.append(school)\n"
   ]
  },
  {
   "cell_type": "markdown",
   "metadata": {},
   "source": [
    "# Pair Program: A full function"
   ]
  },
  {
   "cell_type": "markdown",
   "metadata": {},
   "source": [
    "Create a function that has two parameters:  \n",
    "  - district  \n",
    "  - the nested_schools_dict dictionary  \n",
    "    \n",
    "The function should do two things.  \n",
    "  - Return a dictionary of all schools with a student body less than 500. The keys are the school names, the values are the school pops.  \n",
    "  - Print a statement that reads \"<school_name> has <x_number> of students\". Use an f-string for the print statement."
   ]
  },
  {
   "cell_type": "code",
   "execution_count": null,
   "metadata": {},
   "outputs": [],
   "source": [
    "def low_pop_schools():\n",
    "    \"\"\"\n",
    "    paramaters:\n",
    "    district: a school district to be used as a key in the nested school dictionary\n",
    "    schools: a nested dictionary with each district as a key, paired with a dictionary of school names and school pops\n",
    "    \n",
    "    returns:\n",
    "    low_pop_schools: a dictionary of schools with populations under 500 \n",
    "    with school name as keys and school populations as values\n",
    "    \"\"\"\n",
    "    \n",
    "    low_pop_schools = {}\n",
    "    # Your code here\n",
    "    \n",
    "    return low_pop_schools"
   ]
  },
  {
   "cell_type": "code",
   "execution_count": 89,
   "metadata": {},
   "outputs": [],
   "source": [
    "#__SOLUTION__\n",
    "def low_pop_schools(district, schools=nested_schools_dict):\n",
    "    \n",
    "    \n",
    "    low_pop_schools = {}\n",
    "    for name, pop in nested_schools_dict[district].items():\n",
    "        if pop < 500:\n",
    "            print(f'{name} has {pop} students')\n",
    "            low_pop_schools[name]=pop\n",
    "\n",
    "    return low_pop_schools\n"
   ]
  },
  {
   "cell_type": "markdown",
   "metadata": {},
   "source": [
    "## Exercises:\n",
    "\n",
    "1. Build a function that will take an input string and add '-totally' to the end of it."
   ]
  },
  {
   "cell_type": "code",
   "execution_count": null,
   "metadata": {},
   "outputs": [],
   "source": []
  },
  {
   "cell_type": "markdown",
   "metadata": {},
   "source": [
    "2. Build a function that will take in three numbers and return twice the smallest of the three."
   ]
  },
  {
   "cell_type": "code",
   "execution_count": null,
   "metadata": {},
   "outputs": [],
   "source": []
  },
  {
   "cell_type": "markdown",
   "metadata": {},
   "source": [
    "3. Build a function that will create a list, of user-specified length, of empty dictionaries."
   ]
  },
  {
   "cell_type": "code",
   "execution_count": null,
   "metadata": {},
   "outputs": [],
   "source": []
  },
  {
   "cell_type": "markdown",
   "metadata": {},
   "source": [
    "4. Build a function that will return the middle value (for odd-length) or middle two values (for even-length) of a string."
   ]
  },
  {
   "cell_type": "code",
   "execution_count": null,
   "metadata": {},
   "outputs": [],
   "source": []
  },
  {
   "cell_type": "markdown",
   "metadata": {},
   "source": [
    "5. Build a function that will take in a list of lists of integers - default: \\[[1, 2], [34, 27], [45, 13]\\] - and return a list of the integers that are divisible by 3."
   ]
  },
  {
   "cell_type": "code",
   "execution_count": null,
   "metadata": {},
   "outputs": [],
   "source": []
  },
  {
   "cell_type": "markdown",
   "metadata": {},
   "source": [
    "6. \\*Build a function that will take in a list of lists of integers - default: \\[[1, 2], [34, 27], [45, 13]\\] - and return a dictionary whose keys are integers starting at 1 and counting up and whose values are the integers that are divisible by 3."
   ]
  },
  {
   "cell_type": "code",
   "execution_count": null,
   "metadata": {},
   "outputs": [],
   "source": []
  }
 ],
 "metadata": {
  "kernelspec": {
   "display_name": "Python 3",
   "language": "python",
   "name": "python3"
  },
  "language_info": {
   "codemirror_mode": {
    "name": "ipython",
    "version": 3
   },
   "file_extension": ".py",
   "mimetype": "text/x-python",
   "name": "python",
   "nbconvert_exporter": "python",
   "pygments_lexer": "ipython3",
   "version": "3.7.3"
  }
 },
 "nbformat": 4,
 "nbformat_minor": 4
}
