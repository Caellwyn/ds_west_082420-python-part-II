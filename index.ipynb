{
 "cells": [
  {
   "cell_type": "markdown",
   "metadata": {},
   "source": [
    "# More Python Essentials!\n",
    "\n",
    "In this notebook, we will play around with more fundamental Python tools.  We won't be able to cover everything: Python has vast abilities and many, many methods to learn.  That is one great think about programming, and data science: You will never be bored because of lack of new things to learn.\n",
    "\n",
    "\n",
    "Below, we will learn about\n",
    "  - Base type object methods  \n",
    "  - Built in Functions  \n",
    "  - F-strings  \n",
    "  - List Methods  \n",
    "  - List comprehensions  \n",
    "  - Dictionary methods  \n",
    "  - While loops   \n",
    "  - Functions  \n",
    "  \n",
    "We will begin to use some real data from Chicago public schools. (The student body counts that are found at the bottom of the notebook are randomly created, but the districts and the school names are accurate).\n"
   ]
  },
  {
   "cell_type": "code",
   "execution_count": null,
   "metadata": {},
   "outputs": [],
   "source": [
    "\n",
    "# This is always a good idea\n",
    "%load_ext autoreload\n",
    "%autoreload 2\n",
    "            \n",
    "import os\n",
    "import sys\n",
    "module_path = os.path.abspath(os.path.join(os.pardir, os.pardir))\n",
    "if module_path not in sys.path:\n",
    "    sys.path.append(module_path)\n",
    "    \n",
    "from src.student_caller import one_random_student\n",
    "from src.student_list import student_first_names\n",
    "ds_west = student_first_names"
   ]
  },
  {
   "cell_type": "markdown",
   "metadata": {},
   "source": [
    "## Base Type Object Methods\n",
    "\n",
    "A method is a function that belongs to an object. And in Python, everyting is an object! Naturally, the methods that belong to a particular object can vary depending on the object's datatype."
   ]
  },
  {
   "cell_type": "markdown",
   "metadata": {},
   "source": [
    "### String Methods\n",
    "\n",
    "Strings will show up constantly.  Most datasets we encounter will have some sort of strings.  And they can be messy.  Luckily, we have objects associated with our strings that help us get them into suitable, consistent form.\n",
    "\n",
    "Here are some useful methods for strings:\n",
    "\n",
    "- ```.upper()```: converts a string to uppercase\n",
    "- ```.lower()```: converts a string to lowercase\n",
    "- ```.capitalize()```: makes the first letter of a string a capital"
   ]
  },
  {
   "cell_type": "markdown",
   "metadata": {},
   "source": [
    "Question: What's the difference between `.capitalize()` and `.title()`?"
   ]
  },
  {
   "cell_type": "code",
   "execution_count": null,
   "metadata": {},
   "outputs": [],
   "source": [
    "one_random_student(ds_west)"
   ]
  },
  {
   "cell_type": "markdown",
   "metadata": {},
   "source": [
    "<details>\n",
    "    <summary>\n",
    "    Answer here\n",
    "    </summary>\n",
    "    .capitalize() capitalizes the first letter of a string;<br/>\n",
    "        .title() capitalizes the first letter and each letter after a space\n",
    "    </details>"
   ]
  },
  {
   "cell_type": "code",
   "execution_count": null,
   "metadata": {},
   "outputs": [],
   "source": [
    "principal_first_name = 'clark'\n",
    "principal_middle_initial = 'm'\n",
    "principal_last_name = 'breTThauer'\n",
    "principal_title = 'dr.'"
   ]
  },
  {
   "cell_type": "markdown",
   "metadata": {},
   "source": [
    "There are some odd capitalizations in the principal's last name. Let's fix them."
   ]
  },
  {
   "cell_type": "code",
   "execution_count": null,
   "metadata": {},
   "outputs": [],
   "source": [
    "# .lower()"
   ]
  },
  {
   "cell_type": "code",
   "execution_count": null,
   "metadata": {},
   "outputs": [],
   "source": [
    "#__SOLUTION__\n",
    "# .lower()\n",
    "principal_last_name.lower()"
   ]
  },
  {
   "cell_type": "markdown",
   "metadata": {},
   "source": [
    "Let's create a string representing the principal's full name and title, with correct capitalization."
   ]
  },
  {
   "cell_type": "code",
   "execution_count": null,
   "metadata": {},
   "outputs": [],
   "source": [
    "# .title()"
   ]
  },
  {
   "cell_type": "code",
   "execution_count": null,
   "metadata": {},
   "outputs": [],
   "source": [
    "#__SOLUTION__\n",
    "# .title()\n",
    "full_name = principal_title + \" \" + principal_first_name + \" \" + principal_last_name\n",
    "full_name.title()\n"
   ]
  },
  {
   "cell_type": "markdown",
   "metadata": {},
   "source": [
    "Notice that '+' is used to concatenate strings!"
   ]
  },
  {
   "cell_type": "markdown",
   "metadata": {},
   "source": [
    "We can also use the .join() method to concatenate strings"
   ]
  },
  {
   "cell_type": "code",
   "execution_count": null,
   "metadata": {},
   "outputs": [],
   "source": [
    "# .join()\n",
    "[principal_title, principal_first_name, principal_last_name]"
   ]
  },
  {
   "cell_type": "code",
   "execution_count": null,
   "metadata": {},
   "outputs": [],
   "source": [
    "#__SOLUTION__\n",
    "# .join()\n",
    "\n",
    "' '.join([principal_title, principal_first_name, principal_last_name]).title()"
   ]
  },
  {
   "cell_type": "markdown",
   "metadata": {},
   "source": [
    "Here is a trick using a list comprehension (see below) to get the principal's initials.  "
   ]
  },
  {
   "cell_type": "code",
   "execution_count": null,
   "metadata": {},
   "outputs": [],
   "source": [
    "''.join(name[0].upper() for name in [principal_first_name, \n",
    "                                     principal_middle_initial, \n",
    "                                     principal_last_name]\n",
    "       )"
   ]
  },
  {
   "cell_type": "markdown",
   "metadata": {},
   "source": [
    "## Built-In Functions\n",
    "\n",
    "Many useful functions are already built into Python:\n",
    "\n",
    "- ```print()```: print the given string or variable's value\n",
    "- ```type()```: returns the datatype of the argument\n",
    "- ```len()```: returns the length of an array\n",
    "- ```sum()```: returns the sum of the array's values\n",
    "- ```min()```: returns the smallest member of an array\n",
    "- ```max()```: returns the largest member of an array\n",
    "- ```str()```: converts the variable from its current type to a string\n",
    "- ```range()```: returns an iterable that allows looping through a set of numbers\n",
    "\n",
    "Here is a list of the [built-in functions](https://docs.python.org/3/library/functions.htmlhttps://docs.python.org/3/library/functions.html)"
   ]
  },
  {
   "cell_type": "markdown",
   "metadata": {},
   "source": [
    "You are no doubt already familiar with at least one of the built in functions (print) but you probably haven't given it much thought.  It is a fundamental tool that comes built in with Python, with a prescribed set of behaviors assigned to it.  These behaviors can be overwritten, but that is not a good idea.  "
   ]
  },
  {
   "cell_type": "code",
   "execution_count": null,
   "metadata": {},
   "outputs": [],
   "source": [
    "# print = 'A bad idea'\n",
    "# print"
   ]
  },
  {
   "cell_type": "code",
   "execution_count": null,
   "metadata": {},
   "outputs": [],
   "source": [
    "# print(print)"
   ]
  },
  {
   "cell_type": "code",
   "execution_count": null,
   "metadata": {},
   "outputs": [],
   "source": [
    "print('After the kernal has restarted, this will work again')"
   ]
  },
  {
   "cell_type": "markdown",
   "metadata": {},
   "source": [
    "If we assign a string to the variable print, we overwrite the print's expected behavior in memory.  In order to retrieve print's original functionality, we need to restart our kernal.  \n"
   ]
  },
  {
   "cell_type": "markdown",
   "metadata": {},
   "source": [
    "Two built in functions are used below to create a string representing the sum of the numbers 1 through 5"
   ]
  },
  {
   "cell_type": "code",
   "execution_count": null,
   "metadata": {},
   "outputs": [],
   "source": [
    "' + '.join(str(num) for num in range(1, 6))"
   ]
  },
  {
   "cell_type": "markdown",
   "metadata": {},
   "source": [
    "#### f-Strings\n",
    "\n",
    "f-Strings are a convenient way to bring variables into strings.  F-strings have numerous applications, from webscraping to SQL queries to writing the R-like formulas we will see in Phase 2."
   ]
  },
  {
   "cell_type": "markdown",
   "metadata": {},
   "source": [
    "Consider the scenario where you want to get data of every principal in a school district.  You have a list of last names, and you know the pattern of a url.  \n",
    "`www.lakeviewhigh.edu/principal/<principal_last_name>/about/`"
   ]
  },
  {
   "cell_type": "code",
   "execution_count": null,
   "metadata": {},
   "outputs": [],
   "source": [
    "principal_last_name"
   ]
  },
  {
   "cell_type": "markdown",
   "metadata": {},
   "source": [
    "We can use an f-string to interpolate the last name into the url. We insert the variable, which has to be a **string** into the curly braces."
   ]
  },
  {
   "cell_type": "code",
   "execution_count": null,
   "metadata": {},
   "outputs": [],
   "source": [
    "f\"www.lakeviewhigh.edu/principal/{}/about/\"\""
   ]
  },
  {
   "cell_type": "code",
   "execution_count": null,
   "metadata": {},
   "outputs": [],
   "source": [
    "#__SOLUTION__\n",
    "print(f\"'www.lakeviewhigh.edu/principal/{principal_last_name.lower()}/about/\")"
   ]
  },
  {
   "cell_type": "markdown",
   "metadata": {},
   "source": [
    "## Individual Exercise: Turn off you camera, and take 4 minutes to work through the following problem"
   ]
  },
  {
   "cell_type": "markdown",
   "metadata": {},
   "source": [
    "You would like a list of all Chicago Public Schools in each district.  The urls for the data have an easy pattern:  \n",
    "https://www.cps.edu/schools/networks/network-1/  \n",
    "https://www.cps.edu/schools/networks/network-2/  \n",
    "\n",
    "The numbers before the final forward slash increase consecutively. \n",
    "The **objective** is to print out a list of all of the network urls with an f-string.\n",
    "\n",
    "Hint: You will have to fill in the code below with two built in methods from above."
   ]
  },
  {
   "cell_type": "code",
   "execution_count": null,
   "metadata": {},
   "outputs": [],
   "source": [
    "for i in <fill_in>:\n",
    "    print(f\"https://www.cps.edu/schools/networks/network-{<fill_in>}/\")"
   ]
  },
  {
   "cell_type": "code",
   "execution_count": null,
   "metadata": {},
   "outputs": [],
   "source": [
    "#__SOLUTION__\n",
    "for i in range(1,17):\n",
    "    print(f\"https://www.cps.edu/schools/networks/network-{str(i)}/\")\n",
    "\n"
   ]
  },
  {
   "cell_type": "markdown",
   "metadata": {},
   "source": [
    "### List Methods\n",
    "\n",
    "Here are some useful methods for lists:\n",
    "\n",
    "- ```.append()```: adds an element to the end of a list\n",
    "- ```.pop()```: removes an element from the list\n",
    "- ```.extend()```: adds multiple elements to the end of a list\n",
    "- ```.index()```: returns (first) place in list where argument is found\n",
    "- ```.remove()```: removes element by value\n",
    "\n",
    "Question: What's the difference between ```.remove()``` and ```del```?\n",
    "\n",
    "<details>\n",
    "    <summary>\n",
    "        Answer here\n",
    "    </summary>\n",
    "    .remove() removes an element by value;<br/>\n",
    "    del removes an element by position"
   ]
  },
  {
   "cell_type": "markdown",
   "metadata": {},
   "source": [
    "Let's read in an object which contains Chicago Public School districts and the schools associated with them. "
   ]
  },
  {
   "cell_type": "code",
   "execution_count": null,
   "metadata": {},
   "outputs": [],
   "source": [
    "import pickle\n",
    "\n",
    "with open('./data/school_dict.p', 'rb') as read_file:\n",
    "    schools = pickle.load(read_file)"
   ]
  },
  {
   "cell_type": "markdown",
   "metadata": {},
   "source": [
    "The object schools is a dictionary, with a list associated with a district number.  Let's isolate district 1 and 2, and practice list methods with the first 5 schools in each list."
   ]
  },
  {
   "cell_type": "code",
   "execution_count": null,
   "metadata": {},
   "outputs": [],
   "source": [
    "district_1 = schools[1][:5]\n",
    "district_2 = schools[2][:5]\n"
   ]
  },
  {
   "cell_type": "code",
   "execution_count": null,
   "metadata": {},
   "outputs": [],
   "source": [
    "print(district_1)\n",
    "print(district_2)"
   ]
  },
  {
   "cell_type": "code",
   "execution_count": null,
   "metadata": {},
   "outputs": [],
   "source": [
    "# Add district_1 to district_2 so that we have one big list\n",
    "# Note that this will alter district_2!\n",
    "\n"
   ]
  },
  {
   "cell_type": "code",
   "execution_count": null,
   "metadata": {},
   "outputs": [],
   "source": [
    "#__SOLUTION__\n",
    "print(len(district_2))\n",
    "district_2.extend(district_1)\n",
    "len(district_2)"
   ]
  },
  {
   "cell_type": "code",
   "execution_count": null,
   "metadata": {},
   "outputs": [],
   "source": [
    "one_random_student(ds_west)"
   ]
  },
  {
   "cell_type": "code",
   "execution_count": null,
   "metadata": {},
   "outputs": [],
   "source": [
    "# What would this code return?\n",
    "\n",
    "district_1.append(district_2)\n",
    "district_1"
   ]
  },
  {
   "cell_type": "code",
   "execution_count": null,
   "metadata": {},
   "outputs": [],
   "source": [
    "# Let's build a list of the characters of the all of the letters in district_2\n",
    "\n",
    "school_names_joined = ''.join(district_2)\n",
    "school_names_joined\n",
    "\n"
   ]
  },
  {
   "cell_type": "code",
   "execution_count": null,
   "metadata": {},
   "outputs": [],
   "source": [
    "# What does list(word) do?\n",
    "\n",
    "list(school_salad)"
   ]
  },
  {
   "cell_type": "code",
   "execution_count": null,
   "metadata": {},
   "outputs": [],
   "source": [
    "district_2.pop()\n",
    "\n",
    "# What does this return?\n",
    "# What does district_2 look like now?\n",
    "\n"
   ]
  },
  {
   "cell_type": "markdown",
   "metadata": {},
   "source": [
    "### List Comprehension"
   ]
  },
  {
   "cell_type": "markdown",
   "metadata": {},
   "source": [
    "List comprehension is a handy way of generating a new list from existing lists.\n",
    "\n",
    "Suppose I want the district in the school names.\n"
   ]
  },
  {
   "cell_type": "markdown",
   "metadata": {},
   "source": [
    "I can do this with list comprehension!"
   ]
  },
  {
   "cell_type": "markdown",
   "metadata": {},
   "source": [
    "The syntax is: ```[ f(x) for x in [original list] ]```"
   ]
  },
  {
   "cell_type": "code",
   "execution_count": null,
   "metadata": {},
   "outputs": [],
   "source": [
    "school_district_names = [school_name + '_2' for school_name in district_2]"
   ]
  },
  {
   "cell_type": "code",
   "execution_count": null,
   "metadata": {},
   "outputs": [],
   "source": [
    "school_district_names"
   ]
  },
  {
   "cell_type": "markdown",
   "metadata": {},
   "source": [
    "### Dictionary Methods\n",
    "\n",
    "Here are some useful methods for dictionaries:\n",
    "\n",
    "- ```.keys()```: returns an array of the dictionary's keys\n",
    "- ```.values()```: returns an array of the dictionary's values\n",
    "- ```.items()```: returns an array of key-value tuples"
   ]
  },
  {
   "cell_type": "code",
   "execution_count": null,
   "metadata": {},
   "outputs": [],
   "source": [
    "type(schools)"
   ]
  },
  {
   "cell_type": "code",
   "execution_count": null,
   "metadata": {},
   "outputs": [],
   "source": [
    "# Use the .keys() method to print the keys of this dictionary!\n",
    "\n",
    "# Use the .values() method to print the values of this dictionary!\n",
    "\n",
    "for item in schools.items():\n",
    "    print(item[0], item[1][0])\n",
    "    \n"
   ]
  },
  {
   "cell_type": "markdown",
   "metadata": {},
   "source": [
    "## Zipping"
   ]
  },
  {
   "cell_type": "markdown",
   "metadata": {},
   "source": [
    "Zipping is a way of merging two arrays into one. The result can be cast as a list or as a dict."
   ]
  },
  {
   "cell_type": "code",
   "execution_count": null,
   "metadata": {},
   "outputs": [],
   "source": [
    "student_count = [197, 102, 105, 162]\n",
    "district_2"
   ]
  },
  {
   "cell_type": "code",
   "execution_count": null,
   "metadata": {},
   "outputs": [],
   "source": [
    "zip(district_2, student_count)"
   ]
  },
  {
   "cell_type": "code",
   "execution_count": null,
   "metadata": {},
   "outputs": [],
   "source": [
    "for school, count in zip(district_2, student_count):\n",
    "    print(school, count)"
   ]
  },
  {
   "cell_type": "code",
   "execution_count": null,
   "metadata": {},
   "outputs": [],
   "source": [
    "dict(zip(district_2,student_count))"
   ]
  },
  {
   "cell_type": "markdown",
   "metadata": {},
   "source": [
    "## While Loops\n",
    "\n",
    "We have already seen 'for'-loops, where you use a loop and count the iterations by the some pre-specified number. But sometimes we don't know how many times we'll need to iterate!\n",
    "\n",
    "Suppose I need to choose a certain number of schools (say 10) from  a list.  I can set a variable as a counter, and create a while loop which will add 1 to that counter with each pass through the loop."
   ]
  },
  {
   "cell_type": "code",
   "execution_count": null,
   "metadata": {},
   "outputs": [],
   "source": [
    "# What will the print statement below print out?\n",
    "one_random_student(ds_west)"
   ]
  },
  {
   "cell_type": "code",
   "execution_count": null,
   "metadata": {},
   "outputs": [],
   "source": [
    "school_count = 0\n",
    "\n",
    "while school_count < 10:\n",
    "    dist_4_schools = schools[4]\n",
    "    print(dist_4_schools[school_count])\n",
    "    \n",
    "    school_count += 1\n",
    "\n",
    "print(school_count)"
   ]
  },
  {
   "cell_type": "code",
   "execution_count": null,
   "metadata": {},
   "outputs": [],
   "source": [
    "district_3_schools = schools[3]\n",
    "district_3_pops = [129,107,167,103,111,137,145,\n",
    " 107,198,183,132,100,120,162,\n",
    " 116,146,137]\n"
   ]
  },
  {
   "cell_type": "code",
   "execution_count": null,
   "metadata": {},
   "outputs": [],
   "source": [
    "sample_school_populations = 0\n",
    "school_index = 0\n",
    "\n",
    "while sample_school_populations < 1000:\n",
    "    sample_school_populations += district_3_pops[school_index]\n",
    "    school_index+=1\n",
    "\n",
    "print(sample_school_populations)"
   ]
  },
  {
   "cell_type": "markdown",
   "metadata": {},
   "source": [
    "How can we update the code to stop before 1000?"
   ]
  },
  {
   "cell_type": "code",
   "execution_count": null,
   "metadata": {},
   "outputs": [],
   "source": [
    "one_random_student(ds_west)"
   ]
  },
  {
   "cell_type": "code",
   "execution_count": null,
   "metadata": {},
   "outputs": [],
   "source": [
    "#__SOLUTION__\n",
    "sample_school_populations = 0\n",
    "school_index = 0\n",
    "\n",
    "while sample_school_populations + district_3_pops[school_index]  < 1000:\n",
    "    sample_school_populations += district_3_pops[school_index]\n",
    "    school_index+=1\n",
    "\n",
    "print(sample_school_populations)"
   ]
  },
  {
   "cell_type": "markdown",
   "metadata": {},
   "source": [
    "# Break and Continue"
   ]
  },
  {
   "cell_type": "code",
   "execution_count": null,
   "metadata": {},
   "outputs": [],
   "source": [
    "school_count = 0\n",
    "\n",
    "while school_count < 10:\n",
    "    dist_4_schools = schools[4]\n",
    "    \n",
    "    if dist_4_schools[school_count][0] == 'B':\n",
    "        break\n",
    "        \n",
    "    print(dist_4_schools[school_count])\n",
    "    \n",
    "    school_count += 1\n",
    "\n",
    "print(school_count)"
   ]
  },
  {
   "cell_type": "code",
   "execution_count": null,
   "metadata": {},
   "outputs": [],
   "source": [
    "school_count = 0\n",
    "\n",
    "while school_count < 10:\n",
    "    dist_4_schools = schools[4]\n",
    "    \n",
    "    if dist_4_schools[school_count][0] == 'B':\n",
    "        school_count += 1\n",
    "        continue\n",
    "        \n",
    "    print(dist_4_schools[school_count])\n",
    "    \n",
    "    school_count += 1\n",
    "\n"
   ]
  },
  {
   "cell_type": "markdown",
   "metadata": {},
   "source": [
    "# Nested for loops"
   ]
  },
  {
   "cell_type": "markdown",
   "metadata": {},
   "source": [
    "Lets imagine we have a dictionary where each key is a school district, and each value is a school population number.  "
   ]
  },
  {
   "cell_type": "code",
   "execution_count": null,
   "metadata": {},
   "outputs": [],
   "source": [
    "with open('./data/school_pop_dict.p', 'rb') as read_file:\n",
    "    school_pop_dict = pickle.load(read_file)"
   ]
  },
  {
   "cell_type": "markdown",
   "metadata": {},
   "source": [
    "Let's iterate through the districts, add up the school populations, and print out the total populations in each district\n"
   ]
  },
  {
   "cell_type": "code",
   "execution_count": null,
   "metadata": {},
   "outputs": [],
   "source": [
    "for district in school_pop_dict:\n",
    "    district_population = 0\n",
    "    for pop in school_pop_dict[district]:\n",
    "        district_population += pop\n",
    "    print(district, district_population)"
   ]
  },
  {
   "cell_type": "markdown",
   "metadata": {},
   "source": [
    "## Functions\n",
    "\n",
    "This aspect of Python is _incredibly_ useful! Writing your own functions can save you a TON of work - by _automating_ it.\n",
    "\n",
    "### Creating Functions\n",
    "\n",
    "The first line will read:\n",
    "\n",
    "'def' + _your function's name_ + '( )' + ':'\n",
    "\n",
    "Any arguments to the function will go in the parentheses.\n",
    "\n",
    "Let's try building a function to get the schools in a district"
   ]
  },
  {
   "cell_type": "code",
   "execution_count": null,
   "metadata": {},
   "outputs": [],
   "source": [
    "# Let's code it!\n",
    "def district_schools(dist_num, schools_dictionary):\n",
    "    \n",
    "    '''\n",
    "    parameters\n",
    "    dist_num: The number of the school district to be used as a dicitonary key in schools_dictionary\n",
    "    schools_dictionary: ad dictionary with keys equal to school districts and values equal to school names\n",
    "    \n",
    "    returns:\n",
    "    a list of schools for the given district number\n",
    "    '''\n",
    "    print(dist_num)\n",
    "    \n",
    "    return schools_dictionary[dist_num]\n"
   ]
  },
  {
   "cell_type": "markdown",
   "metadata": {},
   "source": [
    "### Calling Functions\n",
    "\n",
    "To _call_ a function, simply type its name, along with any necessary arguments in parentheses."
   ]
  },
  {
   "cell_type": "code",
   "execution_count": null,
   "metadata": {},
   "outputs": [],
   "source": [
    "# Let's call it!\n",
    "district_schools(3,schools)"
   ]
  },
  {
   "cell_type": "markdown",
   "metadata": {},
   "source": [
    "### Default Argument Values\n",
    "\n",
    "Sometimes we'll want the argument(s) of our function to have default values."
   ]
  },
  {
   "cell_type": "code",
   "execution_count": null,
   "metadata": {},
   "outputs": [],
   "source": [
    "def district_schools(dist_num, schools_dictionary=schools):\n",
    "    \n",
    "    '''\n",
    "    parameters\n",
    "    dist_num: The number of the school district to be used as a dicitonary key in schools_dictionary\n",
    "    schools_dictionary: ad dictionary with keys equal to school districts and values equal to school names\n",
    "    \n",
    "    returns:\n",
    "    a list of schools for the given district number\n",
    "    '''\n",
    "    print(dist_num)\n",
    "    return schools_dictionary[dist_num]"
   ]
  },
  {
   "cell_type": "code",
   "execution_count": null,
   "metadata": {},
   "outputs": [],
   "source": [
    "district_schools(2)"
   ]
  },
  {
   "cell_type": "markdown",
   "metadata": {},
   "source": [
    "# Practice with nested dictionaries"
   ]
  },
  {
   "cell_type": "markdown",
   "metadata": {},
   "source": [
    "The object below is a dictionary with keys which represent a school district. The values associated with the keys are themselves dictionaries, whose keys are school names, and values are school populations."
   ]
  },
  {
   "cell_type": "code",
   "execution_count": null,
   "metadata": {},
   "outputs": [],
   "source": [
    "with open('./data/nested_schools_dict.p', 'rb') as read_file:\n",
    "    nested_schools_dict = pickle.load(read_file)"
   ]
  },
  {
   "cell_type": "code",
   "execution_count": null,
   "metadata": {},
   "outputs": [],
   "source": [
    "nested_schools_dict[1]"
   ]
  },
  {
   "cell_type": "markdown",
   "metadata": {},
   "source": [
    "## Let's make a list of schools with student bodies less than 500."
   ]
  },
  {
   "cell_type": "code",
   "execution_count": null,
   "metadata": {},
   "outputs": [],
   "source": [
    "### Round Robin\n",
    "one_random_student(ds_west)"
   ]
  },
  {
   "cell_type": "code",
   "execution_count": null,
   "metadata": {},
   "outputs": [],
   "source": [
    "# Your code here"
   ]
  },
  {
   "cell_type": "code",
   "execution_count": null,
   "metadata": {},
   "outputs": [],
   "source": [
    "#__SOLUTION__\n",
    "low_pop_schools = []\n",
    "\n",
    "for district in nested_schools_dict:\n",
    "    for school in nested_schools_dict[district]:\n",
    "        if nested_schools_dict[district][school] < 500:\n",
    "            low_pop_schools.append(school)\n",
    "\n",
    "print(low_pop_schools)"
   ]
  },
  {
   "cell_type": "markdown",
   "metadata": {},
   "source": [
    "# Pair Program: A full function"
   ]
  },
  {
   "cell_type": "markdown",
   "metadata": {},
   "source": [
    "Create a function that has two parameters:  \n",
    "  - district  \n",
    "  - the nested_schools_dict dictionary  \n",
    "    \n",
    "The function should do two things.  \n",
    "  - Return a dictionary of all schools with a student body less than 500. The keys are the school names, the values are the school pops.  \n",
    "  - Print a statement that reads \"<school_name> has <x_number> of students\". Use an f-string for the print statement."
   ]
  },
  {
   "cell_type": "code",
   "execution_count": null,
   "metadata": {},
   "outputs": [],
   "source": [
    "def low_pop_schools():\n",
    "    \"\"\"\n",
    "    paramaters:\n",
    "    district: a school district to be used as a key in the nested school dictionary\n",
    "    schools: a nested dictionary with each district as a key, paired with a dictionary of school names and school pops\n",
    "    \n",
    "    returns:\n",
    "    low_pop_schools: a dictionary of schools with populations under 500 \n",
    "    with school name as keys and school populations as values\n",
    "    \"\"\"\n",
    "    \n",
    "    low_pop_schools = {}\n",
    "    # Your code here\n",
    "    \n",
    "    return low_pop_schools"
   ]
  },
  {
   "cell_type": "code",
   "execution_count": null,
   "metadata": {},
   "outputs": [],
   "source": [
    "#__SOLUTION__\n",
    "def low_pop_schools(district, schools=nested_schools_dict):\n",
    "    \n",
    "    \n",
    "    low_pop_schools = {}\n",
    "    for name, pop in nested_schools_dict[district].items():\n",
    "        if pop < 500:\n",
    "            print(f'{name} has {pop} students')\n",
    "            low_pop_schools[name]=pop\n",
    "\n",
    "    return low_pop_schools\n"
   ]
  },
  {
   "cell_type": "markdown",
   "metadata": {},
   "source": [
    "## Practice Exercises:\n",
    "Here are a few exercises to do on your own time to practice building functions.\n",
    "\n",
    "1. Build a function that will take an input string and add '-totally' to the end of it."
   ]
  },
  {
   "cell_type": "code",
   "execution_count": null,
   "metadata": {},
   "outputs": [],
   "source": []
  },
  {
   "cell_type": "markdown",
   "metadata": {},
   "source": [
    "2. Build a function that will take in three numbers and return twice the smallest of the three."
   ]
  },
  {
   "cell_type": "code",
   "execution_count": null,
   "metadata": {},
   "outputs": [],
   "source": []
  },
  {
   "cell_type": "markdown",
   "metadata": {},
   "source": [
    "3. Build a function that will create a list, of user-specified length, of empty dictionaries."
   ]
  },
  {
   "cell_type": "code",
   "execution_count": null,
   "metadata": {},
   "outputs": [],
   "source": []
  },
  {
   "cell_type": "markdown",
   "metadata": {},
   "source": [
    "4. Build a function that will return the middle value (for odd-length) or middle two values (for even-length) of a string."
   ]
  },
  {
   "cell_type": "code",
   "execution_count": null,
   "metadata": {},
   "outputs": [],
   "source": []
  },
  {
   "cell_type": "markdown",
   "metadata": {},
   "source": [
    "5. Build a function that will take in a list of lists of integers - default: \\[[1, 2], [34, 27], [45, 13]\\] - and return a list of the integers that are divisible by 3."
   ]
  },
  {
   "cell_type": "code",
   "execution_count": null,
   "metadata": {},
   "outputs": [],
   "source": []
  },
  {
   "cell_type": "markdown",
   "metadata": {},
   "source": [
    "6. \\*Build a function that will take in a list of lists of integers - default: \\[[1, 2], [34, 27], [45, 13]\\] - and return a dictionary whose keys are integers starting at 1 and counting up and whose values are the integers that are divisible by 3."
   ]
  },
  {
   "cell_type": "code",
   "execution_count": null,
   "metadata": {},
   "outputs": [],
   "source": []
  }
 ],
 "metadata": {
  "kernelspec": {
   "display_name": "Python 3",
   "language": "python",
   "name": "python3"
  },
  "language_info": {
   "codemirror_mode": {
    "name": "ipython",
    "version": 3
   },
   "file_extension": ".py",
   "mimetype": "text/x-python",
   "name": "python",
   "nbconvert_exporter": "python",
   "pygments_lexer": "ipython3",
   "version": "3.6.9"
  }
 },
 "nbformat": 4,
 "nbformat_minor": 4
}
